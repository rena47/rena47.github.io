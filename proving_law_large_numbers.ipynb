{
  "nbformat": 4,
  "nbformat_minor": 0,
  "metadata": {
    "colab": {
      "name": "Using normal distribution to validate law of large numbers",
      "provenance": [],
      "collapsed_sections": [],
      "authorship_tag": "ABX9TyNnVSbuHV4mEwjXaX2F8b4X"
    },
    "kernelspec": {
      "name": "python3",
      "display_name": "Python 3"
    },
    "language_info": {
      "name": "python"
    }
  },
  "cells": [
    {
      "cell_type": "code",
      "metadata": {
        "id": "wSLlCbyQGrj1"
      },
      "source": [
        "# need random numbers pulled from standard normal distribution\n",
        "# use numpy with has mathematical functions as well as random number generators\n",
        "# use randn function to return a sample (or samples) from the “standard normal” distribution\n",
        "import numpy as np\n",
        "from numpy.random import randn"
      ],
      "execution_count": 1,
      "outputs": []
    },
    {
      "cell_type": "code",
      "metadata": {
        "colab": {
          "base_uri": "https://localhost:8080/"
        },
        "id": "si3VAnHVGyYo",
        "outputId": "d59a9c9b-3b3c-41a4-b843-20fe44edeccb"
      },
      "source": [
        "randn()"
      ],
      "execution_count": 2,
      "outputs": [
        {
          "output_type": "execute_result",
          "data": {
            "text/plain": [
              "1.4819690407100594"
            ]
          },
          "metadata": {},
          "execution_count": 2
        }
      ]
    },
    {
      "cell_type": "code",
      "metadata": {
        "colab": {
          "base_uri": "https://localhost:8080/"
        },
        "id": "wt7vr0YxHIbc",
        "outputId": "1dac67ee-e51e-4ffe-a85d-a2753c88216c"
      },
      "source": [
        "# generate array of random numbers pulled from standard normal distribution\n",
        "randn(100)"
      ],
      "execution_count": 3,
      "outputs": [
        {
          "output_type": "execute_result",
          "data": {
            "text/plain": [
              "array([-5.25989362e-01,  5.05872914e-01,  9.57795069e-01, -8.71642233e-01,\n",
              "       -3.09568180e-01,  6.46860498e-01,  4.03995800e-01, -1.01209826e+00,\n",
              "        1.25497355e+00,  2.24881546e+00,  1.19851981e+00, -1.87737349e+00,\n",
              "       -5.39102656e-01, -9.17390841e-01,  5.10575782e-01, -4.43211199e-01,\n",
              "        1.10905363e+00,  7.74423236e-01, -1.79367605e+00, -6.45106870e-02,\n",
              "       -3.01076158e-01, -6.85131222e-02, -4.35246361e-01, -5.36933202e-04,\n",
              "       -9.56116615e-01,  7.24388156e-01, -4.04342875e-01, -8.69262221e-01,\n",
              "        1.54025114e+00,  2.53623721e-01,  5.90548320e-01,  7.88296663e-01,\n",
              "        3.73638031e-01, -9.08566825e-01,  6.71058379e-01, -7.62872814e-01,\n",
              "        7.52179631e-01,  2.61344464e-01, -1.20358895e+00, -1.32680295e+00,\n",
              "        3.36616137e-01, -1.62717338e+00, -7.62257516e-01, -8.90977276e-01,\n",
              "        1.19843462e-01, -7.32920643e-01, -2.04461133e+00,  4.25211782e-01,\n",
              "        3.51820454e-02,  4.73418446e-02,  1.12188865e-02, -6.33466923e-01,\n",
              "        1.37017928e-01, -6.58791077e-01,  1.31591634e+00, -3.73397422e-01,\n",
              "        1.51156338e+00, -4.00872831e-01,  4.63897265e-01, -1.10690682e-01,\n",
              "        4.76703921e-02, -2.50415229e-01,  5.51860015e-01, -6.79192847e-02,\n",
              "       -1.91017806e+00, -6.83299620e-01, -1.89307459e+00, -1.70671654e+00,\n",
              "        4.68475471e-02,  1.52348978e-01, -2.32896780e+00,  8.51006255e-02,\n",
              "        1.49685854e+00, -2.11798403e+00, -6.45835275e-01,  7.17152648e-01,\n",
              "       -7.15866500e-01, -1.17438065e+00, -4.28108423e-01, -2.78578370e-01,\n",
              "        6.22662572e-01, -2.82174441e-01,  8.14337526e-02,  1.00119728e+00,\n",
              "        9.13813669e-01,  1.15042598e+00, -3.78053016e-01,  1.46449510e+00,\n",
              "        8.65758739e-02,  1.67819709e+00, -5.60591805e-01, -1.45410702e+00,\n",
              "       -1.92053558e+00, -1.37575116e+00,  1.11658786e+00, -1.36876629e+00,\n",
              "       -1.52041107e+00,  1.72930201e+00,  4.35050246e-01, -5.07082568e-01])"
            ]
          },
          "metadata": {},
          "execution_count": 3
        }
      ]
    },
    {
      "cell_type": "code",
      "metadata": {
        "colab": {
          "base_uri": "https://localhost:8080/"
        },
        "id": "0Ff3bLg1Ih2I",
        "outputId": "ee1fe184-815e-44ef-c565-444227e87f79"
      },
      "source": [
        "# count number of instances where random number is between -1 and +1\n",
        "# use variable N to reflect sample size\n",
        "# goal is to show that as N increases the counter will consistently approach 0.68\n",
        "N = 100\n",
        "counter = 0\n",
        "for i in randn(N):\n",
        "  if (i > -1 and i < 1):\n",
        "    counter = counter + 1\n",
        "counter/N"
      ],
      "execution_count": 15,
      "outputs": [
        {
          "output_type": "execute_result",
          "data": {
            "text/plain": [
              "0.73"
            ]
          },
          "metadata": {},
          "execution_count": 15
        }
      ]
    },
    {
      "cell_type": "code",
      "metadata": {
        "colab": {
          "base_uri": "https://localhost:8080/"
        },
        "id": "FBU0Ly9TJbNN",
        "outputId": "73332573-0f23-4664-8810-9ba95ee5dd0d"
      },
      "source": [
        "N = 10000\n",
        "counter = 0\n",
        "for i in randn(N):\n",
        "  if (i > -1 and i < 1):\n",
        "    counter = counter + 1\n",
        "counter/N"
      ],
      "execution_count": 17,
      "outputs": [
        {
          "output_type": "execute_result",
          "data": {
            "text/plain": [
              "0.6859"
            ]
          },
          "metadata": {},
          "execution_count": 17
        }
      ]
    },
    {
      "cell_type": "code",
      "metadata": {
        "id": "dvmo2wN-J5vg"
      },
      "source": [
        ""
      ],
      "execution_count": null,
      "outputs": []
    }
  ]
}